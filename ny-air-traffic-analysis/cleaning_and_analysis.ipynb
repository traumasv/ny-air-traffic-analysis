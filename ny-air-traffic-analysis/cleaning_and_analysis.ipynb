{
 "cells": [
  {
   "cell_type": "code",
   "execution_count": 2,
   "metadata": {},
   "outputs": [],
   "source": [
    "import pandas as pd\n",
    "import datetime as dt"
   ]
  },
  {
   "cell_type": "markdown",
   "metadata": {},
   "source": [
    "### Cleaning the data\n",
    "\n",
    "* drop unnamed:18\n",
    "* fill in the null value with  0's for the different delay\n",
    "* change the date to an actual datetime"
   ]
  },
  {
   "cell_type": "code",
   "execution_count": 3,
   "metadata": {},
   "outputs": [],
   "source": [
    "data = pd.read_csv('flight_data.csv')\n",
    "airport = pd.read_csv('airport.csv')\n",
    "cancellation = pd.read_csv('cancellation.csv')"
   ]
  },
  {
   "cell_type": "code",
   "execution_count": 4,
   "metadata": {},
   "outputs": [
    {
     "data": {
      "text/html": [
       "<div>\n",
       "<style scoped>\n",
       "    .dataframe tbody tr th:only-of-type {\n",
       "        vertical-align: middle;\n",
       "    }\n",
       "\n",
       "    .dataframe tbody tr th {\n",
       "        vertical-align: top;\n",
       "    }\n",
       "\n",
       "    .dataframe thead th {\n",
       "        text-align: right;\n",
       "    }\n",
       "</style>\n",
       "<table border=\"1\" class=\"dataframe\">\n",
       "  <thead>\n",
       "    <tr style=\"text-align: right;\">\n",
       "      <th></th>\n",
       "      <th>FL_DATE</th>\n",
       "      <th>OP_UNIQUE_CARRIER</th>\n",
       "      <th>OP_CARRIER_FL_NUM</th>\n",
       "      <th>ORIGIN</th>\n",
       "      <th>DEST</th>\n",
       "      <th>CRS_DEP_TIME</th>\n",
       "      <th>DEP_TIME</th>\n",
       "      <th>DEP_DELAY_NEW</th>\n",
       "      <th>CRS_ARR_TIME</th>\n",
       "      <th>ARR_TIME</th>\n",
       "      <th>ARR_DELAY_NEW</th>\n",
       "      <th>CANCELLED</th>\n",
       "      <th>CANCELLATION_CODE</th>\n",
       "      <th>CARRIER_DELAY</th>\n",
       "      <th>WEATHER_DELAY</th>\n",
       "      <th>NAS_DELAY</th>\n",
       "      <th>SECURITY_DELAY</th>\n",
       "      <th>LATE_AIRCRAFT_DELAY</th>\n",
       "      <th>Unnamed: 18</th>\n",
       "    </tr>\n",
       "  </thead>\n",
       "  <tbody>\n",
       "    <tr>\n",
       "      <th>0</th>\n",
       "      <td>2018-12-01</td>\n",
       "      <td>EV</td>\n",
       "      <td>4342</td>\n",
       "      <td>TYS</td>\n",
       "      <td>IAH</td>\n",
       "      <td>1150</td>\n",
       "      <td>1230.0</td>\n",
       "      <td>40.0</td>\n",
       "      <td>1322</td>\n",
       "      <td>1357.0</td>\n",
       "      <td>35.0</td>\n",
       "      <td>0.0</td>\n",
       "      <td>NaN</td>\n",
       "      <td>0.0</td>\n",
       "      <td>1.0</td>\n",
       "      <td>0.0</td>\n",
       "      <td>0.0</td>\n",
       "      <td>34.0</td>\n",
       "      <td>NaN</td>\n",
       "    </tr>\n",
       "    <tr>\n",
       "      <th>1</th>\n",
       "      <td>2018-12-01</td>\n",
       "      <td>EV</td>\n",
       "      <td>4343</td>\n",
       "      <td>LIT</td>\n",
       "      <td>IAH</td>\n",
       "      <td>1405</td>\n",
       "      <td>1427.0</td>\n",
       "      <td>22.0</td>\n",
       "      <td>1540</td>\n",
       "      <td>1549.0</td>\n",
       "      <td>9.0</td>\n",
       "      <td>0.0</td>\n",
       "      <td>NaN</td>\n",
       "      <td>NaN</td>\n",
       "      <td>NaN</td>\n",
       "      <td>NaN</td>\n",
       "      <td>NaN</td>\n",
       "      <td>NaN</td>\n",
       "      <td>NaN</td>\n",
       "    </tr>\n",
       "    <tr>\n",
       "      <th>2</th>\n",
       "      <td>2018-12-01</td>\n",
       "      <td>EV</td>\n",
       "      <td>4344</td>\n",
       "      <td>IAH</td>\n",
       "      <td>GSP</td>\n",
       "      <td>1940</td>\n",
       "      <td>1936.0</td>\n",
       "      <td>0.0</td>\n",
       "      <td>2254</td>\n",
       "      <td>2241.0</td>\n",
       "      <td>0.0</td>\n",
       "      <td>0.0</td>\n",
       "      <td>NaN</td>\n",
       "      <td>NaN</td>\n",
       "      <td>NaN</td>\n",
       "      <td>NaN</td>\n",
       "      <td>NaN</td>\n",
       "      <td>NaN</td>\n",
       "      <td>NaN</td>\n",
       "    </tr>\n",
       "    <tr>\n",
       "      <th>3</th>\n",
       "      <td>2018-12-01</td>\n",
       "      <td>EV</td>\n",
       "      <td>4345</td>\n",
       "      <td>IND</td>\n",
       "      <td>EWR</td>\n",
       "      <td>1600</td>\n",
       "      <td>1553.0</td>\n",
       "      <td>0.0</td>\n",
       "      <td>1805</td>\n",
       "      <td>1747.0</td>\n",
       "      <td>0.0</td>\n",
       "      <td>0.0</td>\n",
       "      <td>NaN</td>\n",
       "      <td>NaN</td>\n",
       "      <td>NaN</td>\n",
       "      <td>NaN</td>\n",
       "      <td>NaN</td>\n",
       "      <td>NaN</td>\n",
       "      <td>NaN</td>\n",
       "    </tr>\n",
       "    <tr>\n",
       "      <th>4</th>\n",
       "      <td>2018-12-01</td>\n",
       "      <td>EV</td>\n",
       "      <td>4348</td>\n",
       "      <td>ORD</td>\n",
       "      <td>FSD</td>\n",
       "      <td>2105</td>\n",
       "      <td>NaN</td>\n",
       "      <td>NaN</td>\n",
       "      <td>2300</td>\n",
       "      <td>NaN</td>\n",
       "      <td>NaN</td>\n",
       "      <td>1.0</td>\n",
       "      <td>B</td>\n",
       "      <td>NaN</td>\n",
       "      <td>NaN</td>\n",
       "      <td>NaN</td>\n",
       "      <td>NaN</td>\n",
       "      <td>NaN</td>\n",
       "      <td>NaN</td>\n",
       "    </tr>\n",
       "  </tbody>\n",
       "</table>\n",
       "</div>"
      ],
      "text/plain": [
       "      FL_DATE OP_UNIQUE_CARRIER  OP_CARRIER_FL_NUM ORIGIN DEST  CRS_DEP_TIME  \\\n",
       "0  2018-12-01                EV               4342    TYS  IAH          1150   \n",
       "1  2018-12-01                EV               4343    LIT  IAH          1405   \n",
       "2  2018-12-01                EV               4344    IAH  GSP          1940   \n",
       "3  2018-12-01                EV               4345    IND  EWR          1600   \n",
       "4  2018-12-01                EV               4348    ORD  FSD          2105   \n",
       "\n",
       "   DEP_TIME  DEP_DELAY_NEW  CRS_ARR_TIME  ARR_TIME  ARR_DELAY_NEW  CANCELLED  \\\n",
       "0    1230.0           40.0          1322    1357.0           35.0        0.0   \n",
       "1    1427.0           22.0          1540    1549.0            9.0        0.0   \n",
       "2    1936.0            0.0          2254    2241.0            0.0        0.0   \n",
       "3    1553.0            0.0          1805    1747.0            0.0        0.0   \n",
       "4       NaN            NaN          2300       NaN            NaN        1.0   \n",
       "\n",
       "  CANCELLATION_CODE  CARRIER_DELAY  WEATHER_DELAY  NAS_DELAY  SECURITY_DELAY  \\\n",
       "0               NaN            0.0            1.0        0.0             0.0   \n",
       "1               NaN            NaN            NaN        NaN             NaN   \n",
       "2               NaN            NaN            NaN        NaN             NaN   \n",
       "3               NaN            NaN            NaN        NaN             NaN   \n",
       "4                 B            NaN            NaN        NaN             NaN   \n",
       "\n",
       "   LATE_AIRCRAFT_DELAY  Unnamed: 18  \n",
       "0                 34.0          NaN  \n",
       "1                  NaN          NaN  \n",
       "2                  NaN          NaN  \n",
       "3                  NaN          NaN  \n",
       "4                  NaN          NaN  "
      ]
     },
     "execution_count": 4,
     "metadata": {},
     "output_type": "execute_result"
    }
   ],
   "source": [
    "data.head()"
   ]
  },
  {
   "cell_type": "code",
   "execution_count": 5,
   "metadata": {},
   "outputs": [],
   "source": [
    "data = data.drop('Unnamed: 18', axis=1)"
   ]
  },
  {
   "cell_type": "code",
   "execution_count": 6,
   "metadata": {},
   "outputs": [],
   "source": [
    "data = data.fillna({'CARRIER_DELAY': 0, 'WEATHER_DELAY': 0, 'NAS_DELAY': 0, 'SECURITY_DELAY': 0, 'LATE_AIRCRAFT_DELAY': 0})"
   ]
  },
  {
   "cell_type": "code",
   "execution_count": 7,
   "metadata": {},
   "outputs": [],
   "source": [
    "data['FL_DATE'] = pd.to_datetime(data['FL_DATE'], format=\"%Y/%m/%d\")"
   ]
  },
  {
   "cell_type": "code",
   "execution_count": 8,
   "metadata": {},
   "outputs": [],
   "source": [
    "data = data.astype({'CRS_DEP_TIME': 'object', 'DEP_TIME': 'object', 'CRS_ARR_TIME': 'object', 'ARR_TIME': 'object'})"
   ]
  },
  {
   "cell_type": "markdown",
   "metadata": {},
   "source": [
    "### Analysis\n",
    "* create a column called total departure delay time using list comprehension\n",
    "* use higher order function to find the date with the greatest avg departing delay time\n",
    "* create a column to find the total delay (departure + arrival)"
   ]
  },
  {
   "cell_type": "code",
   "execution_count": 9,
   "metadata": {},
   "outputs": [],
   "source": [
    "data['TOTAL_DEP_DELAY'] = [a + b + c + d + e for a, b, c, d, e in zip(data['CARRIER_DELAY'], data['WEATHER_DELAY'], data['NAS_DELAY'], data['SECURITY_DELAY'], data['LATE_AIRCRAFT_DELAY'])]"
   ]
  },
  {
   "cell_type": "code",
   "execution_count": 10,
   "metadata": {},
   "outputs": [],
   "source": [
    "avg_delay = data['DEP_DELAY_NEW'].groupby(data['FL_DATE']).mean()"
   ]
  },
  {
   "cell_type": "code",
   "execution_count": 11,
   "metadata": {},
   "outputs": [],
   "source": [
    "data['TOTAL_DELAY'] = [a + b for a, b in zip(data['DEP_DELAY_NEW'],data['ARR_DELAY_NEW'])]"
   ]
  },
  {
   "cell_type": "code",
   "execution_count": 12,
   "metadata": {},
   "outputs": [
    {
     "data": {
      "text/html": [
       "<div>\n",
       "<style scoped>\n",
       "    .dataframe tbody tr th:only-of-type {\n",
       "        vertical-align: middle;\n",
       "    }\n",
       "\n",
       "    .dataframe tbody tr th {\n",
       "        vertical-align: top;\n",
       "    }\n",
       "\n",
       "    .dataframe thead th {\n",
       "        text-align: right;\n",
       "    }\n",
       "</style>\n",
       "<table border=\"1\" class=\"dataframe\">\n",
       "  <thead>\n",
       "    <tr style=\"text-align: right;\">\n",
       "      <th></th>\n",
       "      <th>FL_DATE</th>\n",
       "      <th>OP_UNIQUE_CARRIER</th>\n",
       "      <th>OP_CARRIER_FL_NUM</th>\n",
       "      <th>ORIGIN</th>\n",
       "      <th>DEST</th>\n",
       "      <th>CRS_DEP_TIME</th>\n",
       "      <th>DEP_TIME</th>\n",
       "      <th>DEP_DELAY_NEW</th>\n",
       "      <th>CRS_ARR_TIME</th>\n",
       "      <th>ARR_TIME</th>\n",
       "      <th>ARR_DELAY_NEW</th>\n",
       "      <th>CANCELLED</th>\n",
       "      <th>CANCELLATION_CODE</th>\n",
       "      <th>CARRIER_DELAY</th>\n",
       "      <th>WEATHER_DELAY</th>\n",
       "      <th>NAS_DELAY</th>\n",
       "      <th>SECURITY_DELAY</th>\n",
       "      <th>LATE_AIRCRAFT_DELAY</th>\n",
       "      <th>TOTAL_DEP_DELAY</th>\n",
       "      <th>TOTAL_DELAY</th>\n",
       "    </tr>\n",
       "  </thead>\n",
       "  <tbody>\n",
       "    <tr>\n",
       "      <th>0</th>\n",
       "      <td>2018-12-01</td>\n",
       "      <td>EV</td>\n",
       "      <td>4342</td>\n",
       "      <td>TYS</td>\n",
       "      <td>IAH</td>\n",
       "      <td>1150</td>\n",
       "      <td>1230</td>\n",
       "      <td>40.0</td>\n",
       "      <td>1322</td>\n",
       "      <td>1357</td>\n",
       "      <td>35.0</td>\n",
       "      <td>0.0</td>\n",
       "      <td>NaN</td>\n",
       "      <td>0.0</td>\n",
       "      <td>1.0</td>\n",
       "      <td>0.0</td>\n",
       "      <td>0.0</td>\n",
       "      <td>34.0</td>\n",
       "      <td>35.0</td>\n",
       "      <td>75.0</td>\n",
       "    </tr>\n",
       "    <tr>\n",
       "      <th>1</th>\n",
       "      <td>2018-12-01</td>\n",
       "      <td>EV</td>\n",
       "      <td>4343</td>\n",
       "      <td>LIT</td>\n",
       "      <td>IAH</td>\n",
       "      <td>1405</td>\n",
       "      <td>1427</td>\n",
       "      <td>22.0</td>\n",
       "      <td>1540</td>\n",
       "      <td>1549</td>\n",
       "      <td>9.0</td>\n",
       "      <td>0.0</td>\n",
       "      <td>NaN</td>\n",
       "      <td>0.0</td>\n",
       "      <td>0.0</td>\n",
       "      <td>0.0</td>\n",
       "      <td>0.0</td>\n",
       "      <td>0.0</td>\n",
       "      <td>0.0</td>\n",
       "      <td>31.0</td>\n",
       "    </tr>\n",
       "    <tr>\n",
       "      <th>2</th>\n",
       "      <td>2018-12-01</td>\n",
       "      <td>EV</td>\n",
       "      <td>4344</td>\n",
       "      <td>IAH</td>\n",
       "      <td>GSP</td>\n",
       "      <td>1940</td>\n",
       "      <td>1936</td>\n",
       "      <td>0.0</td>\n",
       "      <td>2254</td>\n",
       "      <td>2241</td>\n",
       "      <td>0.0</td>\n",
       "      <td>0.0</td>\n",
       "      <td>NaN</td>\n",
       "      <td>0.0</td>\n",
       "      <td>0.0</td>\n",
       "      <td>0.0</td>\n",
       "      <td>0.0</td>\n",
       "      <td>0.0</td>\n",
       "      <td>0.0</td>\n",
       "      <td>0.0</td>\n",
       "    </tr>\n",
       "    <tr>\n",
       "      <th>3</th>\n",
       "      <td>2018-12-01</td>\n",
       "      <td>EV</td>\n",
       "      <td>4345</td>\n",
       "      <td>IND</td>\n",
       "      <td>EWR</td>\n",
       "      <td>1600</td>\n",
       "      <td>1553</td>\n",
       "      <td>0.0</td>\n",
       "      <td>1805</td>\n",
       "      <td>1747</td>\n",
       "      <td>0.0</td>\n",
       "      <td>0.0</td>\n",
       "      <td>NaN</td>\n",
       "      <td>0.0</td>\n",
       "      <td>0.0</td>\n",
       "      <td>0.0</td>\n",
       "      <td>0.0</td>\n",
       "      <td>0.0</td>\n",
       "      <td>0.0</td>\n",
       "      <td>0.0</td>\n",
       "    </tr>\n",
       "    <tr>\n",
       "      <th>4</th>\n",
       "      <td>2018-12-01</td>\n",
       "      <td>EV</td>\n",
       "      <td>4348</td>\n",
       "      <td>ORD</td>\n",
       "      <td>FSD</td>\n",
       "      <td>2105</td>\n",
       "      <td>NaN</td>\n",
       "      <td>NaN</td>\n",
       "      <td>2300</td>\n",
       "      <td>NaN</td>\n",
       "      <td>NaN</td>\n",
       "      <td>1.0</td>\n",
       "      <td>B</td>\n",
       "      <td>0.0</td>\n",
       "      <td>0.0</td>\n",
       "      <td>0.0</td>\n",
       "      <td>0.0</td>\n",
       "      <td>0.0</td>\n",
       "      <td>0.0</td>\n",
       "      <td>NaN</td>\n",
       "    </tr>\n",
       "  </tbody>\n",
       "</table>\n",
       "</div>"
      ],
      "text/plain": [
       "     FL_DATE OP_UNIQUE_CARRIER  OP_CARRIER_FL_NUM ORIGIN DEST CRS_DEP_TIME  \\\n",
       "0 2018-12-01                EV               4342    TYS  IAH         1150   \n",
       "1 2018-12-01                EV               4343    LIT  IAH         1405   \n",
       "2 2018-12-01                EV               4344    IAH  GSP         1940   \n",
       "3 2018-12-01                EV               4345    IND  EWR         1600   \n",
       "4 2018-12-01                EV               4348    ORD  FSD         2105   \n",
       "\n",
       "  DEP_TIME  DEP_DELAY_NEW CRS_ARR_TIME ARR_TIME  ARR_DELAY_NEW  CANCELLED  \\\n",
       "0     1230           40.0         1322     1357           35.0        0.0   \n",
       "1     1427           22.0         1540     1549            9.0        0.0   \n",
       "2     1936            0.0         2254     2241            0.0        0.0   \n",
       "3     1553            0.0         1805     1747            0.0        0.0   \n",
       "4      NaN            NaN         2300      NaN            NaN        1.0   \n",
       "\n",
       "  CANCELLATION_CODE  CARRIER_DELAY  WEATHER_DELAY  NAS_DELAY  SECURITY_DELAY  \\\n",
       "0               NaN            0.0            1.0        0.0             0.0   \n",
       "1               NaN            0.0            0.0        0.0             0.0   \n",
       "2               NaN            0.0            0.0        0.0             0.0   \n",
       "3               NaN            0.0            0.0        0.0             0.0   \n",
       "4                 B            0.0            0.0        0.0             0.0   \n",
       "\n",
       "   LATE_AIRCRAFT_DELAY  TOTAL_DEP_DELAY  TOTAL_DELAY  \n",
       "0                 34.0             35.0         75.0  \n",
       "1                  0.0              0.0         31.0  \n",
       "2                  0.0              0.0          0.0  \n",
       "3                  0.0              0.0          0.0  \n",
       "4                  0.0              0.0          NaN  "
      ]
     },
     "execution_count": 12,
     "metadata": {},
     "output_type": "execute_result"
    }
   ],
   "source": [
    "data.head()"
   ]
  },
  {
   "cell_type": "code",
   "execution_count": 13,
   "metadata": {},
   "outputs": [],
   "source": [
    "import numpy as np\n",
    "import pandas as pd\n",
    "import seaborn as sns\n",
    "import matplotlib.pyplot as plt\n",
    "from scipy import stats"
   ]
  },
  {
   "cell_type": "code",
   "execution_count": 14,
   "metadata": {},
   "outputs": [
    {
     "data": {
      "text/plain": [
       "<seaborn.axisgrid.FacetGrid at 0x22feeedb828>"
      ]
     },
     "execution_count": 14,
     "metadata": {},
     "output_type": "execute_result"
    },
    {
     "data": {
      "image/png": "[encoded data removed]",
      "text/plain": [
       "<Figure size 360x360 with 1 Axes>"
      ]
     },
     "metadata": {
      "needs_background": "light"
     },
     "output_type": "display_data"
    }
   ],
   "source": [
    "frame = {'Avg_Delay' : avg_delay.values, 'Date' : [i for i in range(31)]}\n",
    "delay_pd = pd.DataFrame(frame)\n",
    "sns.lmplot('Date', 'Avg_Delay', data=delay_pd, fit_reg=False)"
   ]
  },
  {
   "cell_type": "code",
   "execution_count": 15,
   "metadata": {},
   "outputs": [
    {
     "name": "stderr",
     "output_type": "stream",
     "text": [
      "C:\\Users\\Joey Park\\Anaconda3\\lib\\site-packages\\scipy\\stats\\stats.py:1713: FutureWarning: Using a non-tuple sequence for multidimensional indexing is deprecated; use `arr[tuple(seq)]` instead of `arr[seq]`. In the future this will be interpreted as an array index, `arr[np.array(seq)]`, which will result either in an error or a different result.\n",
      "  return np.add.reduce(sorted[indexer] * weights, axis=axis) / sumval\n"
     ]
    },
    {
     "data": {
      "text/plain": [
       "<seaborn.axisgrid.JointGrid at 0x22fef1c4240>"
      ]
     },
     "execution_count": 15,
     "metadata": {},
     "output_type": "execute_result"
    },
    {
     "data": {
      "image/png": "[encoded data removed]",
      "text/plain": [
       "<Figure size 432x432 with 3 Axes>"
      ]
     },
     "metadata": {
      "needs_background": "light"
     },
     "output_type": "display_data"
    }
   ],
   "source": [
    "sns.jointplot(x=\"Date\", y=\"Avg_Delay\", data=delay_pd)"
   ]
  },
  {
   "cell_type": "code",
   "execution_count": null,
   "metadata": {},
   "outputs": [],
   "source": []
  }
 ],
 "metadata": {
  "kernelspec": {
   "display_name": "Python [conda root]",
   "language": "python",
   "name": "conda-root-py"
  },
  "language_info": {
   "codemirror_mode": {
    "name": "ipython",
    "version": 3
   },
   "file_extension": ".py",
   "mimetype": "text/x-python",
   "name": "python",
   "nbconvert_exporter": "python",
   "pygments_lexer": "ipython3",
   "version": "3.5.6"
  }
 },
 "nbformat": 4,
 "nbformat_minor": 4
}
